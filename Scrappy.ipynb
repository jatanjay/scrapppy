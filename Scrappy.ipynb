{
 "cells": [
  {
   "cell_type": "code",
   "execution_count": 186,
   "metadata": {},
   "outputs": [],
   "source": [
    "import bs4\n",
    "import requests\n",
    "import webbrowser\n",
    "import time\n",
    "import pandas as pd"
   ]
  },
  {
   "cell_type": "code",
   "execution_count": 300,
   "metadata": {},
   "outputs": [],
   "source": [
    "def make_clickable(val):\n",
    "    # target _blank to open new window\n",
    "    return '<a target=\"_blank\" href=\"{}\">{}</a>'.format(val, val)\n",
    "\n",
    "def scrappy():\n",
    "    df = pd.DataFrame()\n",
    "    jobs = {}\n",
    "    for i in range(0,3):\n",
    "        url = \"https://www.umass.edu/umfa/job-board?field_job_title_tid=All&field_work_study_non_work_study_value=nws&field_hiring_period_value=All&field_on_off_campus_value=on&keys=\"\n",
    "        updated_url = f\"&page={i}\"\n",
    "        url = url + updated_url\n",
    "        res = requests.get(url)\n",
    "        time.sleep(0.25)\n",
    "#         soup = bs4.BeautifulSoup(res.text,'html.parser')\n",
    "#         for a in soup.find_all('a', href=True):\n",
    "#             if a['href'].startswith(\"/umfa/job-board-detail\"):\n",
    "#                 as_string = str(a)\n",
    "#                 job_title = as_string[39:-4]\n",
    "#                 df['Job Title'] = [job_title]\n",
    "#                 df['URL'] = ['https://www.umass.edu'+ a['href']]\n",
    "        soup = bs4.BeautifulSoup(res.text,'html.parser')\n",
    "        for a in soup.find_all('a', href=True):\n",
    "            if a['href'].startswith(\"/umfa/job-board-detail\"):\n",
    "                as_string = str(a)\n",
    "                job_title = as_string[39:-4]\n",
    "                jobs[job_title] = 'https://www.umass.edu'+ a['href']\n",
    "    as_df = pd.Series(jobs)\n",
    "    return as_df"
   ]
  },
  {
   "cell_type": "code",
   "execution_count": 301,
   "metadata": {},
   "outputs": [],
   "source": [
    "df = scrappy()"
   ]
  },
  {
   "cell_type": "code",
   "execution_count": null,
   "metadata": {},
   "outputs": [],
   "source": []
  },
  {
   "cell_type": "code",
   "execution_count": null,
   "metadata": {
    "scrolled": false
   },
   "outputs": [],
   "source": []
  },
  {
   "cell_type": "code",
   "execution_count": null,
   "metadata": {},
   "outputs": [],
   "source": []
  },
  {
   "cell_type": "code",
   "execution_count": null,
   "metadata": {},
   "outputs": [],
   "source": []
  },
  {
   "cell_type": "code",
   "execution_count": null,
   "metadata": {},
   "outputs": [],
   "source": []
  },
  {
   "cell_type": "code",
   "execution_count": null,
   "metadata": {},
   "outputs": [],
   "source": []
  },
  {
   "cell_type": "code",
   "execution_count": null,
   "metadata": {},
   "outputs": [],
   "source": []
  }
 ],
 "metadata": {
  "kernelspec": {
   "display_name": "Python 3",
   "language": "python",
   "name": "python3"
  },
  "language_info": {
   "codemirror_mode": {
    "name": "ipython",
    "version": 3
   },
   "file_extension": ".py",
   "mimetype": "text/x-python",
   "name": "python",
   "nbconvert_exporter": "python",
   "pygments_lexer": "ipython3",
   "version": "3.8.5"
  }
 },
 "nbformat": 4,
 "nbformat_minor": 4
}
