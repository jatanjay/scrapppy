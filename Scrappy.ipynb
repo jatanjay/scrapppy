{
 "cells": [
  {
   "cell_type": "code",
   "execution_count": 82,
   "metadata": {},
   "outputs": [],
   "source": [
    "import bs4\n",
    "import requests\n",
    "import webbrowser\n",
    "import time"
   ]
  },
  {
   "cell_type": "code",
   "execution_count": 184,
   "metadata": {},
   "outputs": [],
   "source": [
    "def scrappy():\n",
    "    jobs = {}\n",
    "    for i in range(0,30):\n",
    "        url = \"https://www.umass.edu/umfa/job-board?field_job_title_tid=All&field_work_study_non_work_study_value=nws&field_hiring_period_value=All&field_on_off_campus_value=on&keys=\"\n",
    "        updated_url = f\"&page={i}\"\n",
    "        url = url + updated_url\n",
    "        res = requests.get(url)\n",
    "        time.sleep(0.25)\n",
    "        soup = bs4.BeautifulSoup(res.text,'html.parser')\n",
    "        for a in soup.find_all('a', href=True):\n",
    "            if a['href'].startswith(\"/umfa/job-board-detail\"):\n",
    "                as_string = str(a)\n",
    "                job_title = as_string[39:-4]\n",
    "                jobs[job_title] = 'https://www.umass.edu'+ a['href']\n",
    "    return jobs"
   ]
  },
  {
   "cell_type": "code",
   "execution_count": 185,
   "metadata": {},
   "outputs": [
    {
     "data": {
      "text/plain": [
       "{'Program Assistant': 'https://www.umass.edu/umfa/job-board-detail/43696',\n",
       " 'Staff Assistant': 'https://www.umass.edu/umfa/job-board-detail/42996',\n",
       " 'Office Assistant': 'https://www.umass.edu/umfa/job-board-detail/43686',\n",
       " 'Peer Advisor': 'https://www.umass.edu/umfa/job-board-detail/43162',\n",
       " 'us Driver': 'https://www.umass.edu/umfa/job-board-detail/4012',\n",
       " 'Student Caller': 'https://www.umass.edu/umfa/job-board-detail/42209',\n",
       " 'Athletic Tutor': 'https://www.umass.edu/umfa/job-board-detail/42322',\n",
       " 'Driver': 'https://www.umass.edu/umfa/job-board-detail/42368',\n",
       " 'Lifeguard': 'https://www.umass.edu/umfa/job-board-detail/42316',\n",
       " 'Outdoor Recreation Program Staff': 'https://www.umass.edu/umfa/job-board-detail/42328',\n",
       " 'Injury Care Provider': 'https://www.umass.edu/umfa/job-board-detail/42326'}"
      ]
     },
     "execution_count": 185,
     "metadata": {},
     "output_type": "execute_result"
    }
   ],
   "source": [
    "scrappy()"
   ]
  },
  {
   "cell_type": "code",
   "execution_count": null,
   "metadata": {},
   "outputs": [],
   "source": []
  },
  {
   "cell_type": "code",
   "execution_count": null,
   "metadata": {
    "scrolled": false
   },
   "outputs": [],
   "source": []
  },
  {
   "cell_type": "code",
   "execution_count": null,
   "metadata": {},
   "outputs": [],
   "source": []
  },
  {
   "cell_type": "code",
   "execution_count": null,
   "metadata": {},
   "outputs": [],
   "source": []
  },
  {
   "cell_type": "code",
   "execution_count": null,
   "metadata": {},
   "outputs": [],
   "source": []
  },
  {
   "cell_type": "code",
   "execution_count": null,
   "metadata": {},
   "outputs": [],
   "source": []
  },
  {
   "cell_type": "code",
   "execution_count": null,
   "metadata": {},
   "outputs": [],
   "source": []
  }
 ],
 "metadata": {
  "kernelspec": {
   "display_name": "Python 3",
   "language": "python",
   "name": "python3"
  },
  "language_info": {
   "codemirror_mode": {
    "name": "ipython",
    "version": 3
   },
   "file_extension": ".py",
   "mimetype": "text/x-python",
   "name": "python",
   "nbconvert_exporter": "python",
   "pygments_lexer": "ipython3",
   "version": "3.8.5"
  }
 },
 "nbformat": 4,
 "nbformat_minor": 4
}
